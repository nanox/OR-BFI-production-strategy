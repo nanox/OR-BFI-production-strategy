{
  "nbformat": 4,
  "nbformat_minor": 0,
  "metadata": {
    "colab": {
      "provenance": []
    },
    "kernelspec": {
      "name": "python3",
      "display_name": "Python 3"
    },
    "language_info": {
      "name": "python"
    }
  },
  "cells": [
    {
      "cell_type": "markdown",
      "metadata": {
        "id": "vmywPreP_t1k"
      },
      "source": [
        "![unir-c.png](https://fundaesesco.esesco.net/wp-content/uploads/2021/11/unir-c.png)\n",
        "\n",
        "<!-- `Imagen tomada de https://fundaesesco.esesco.net/wp-content/uploads/2021/11/unir-c.png` -->"
      ]
    },
    {
      "cell_type": "markdown",
      "source": [
        "\n",
        "*Álvarez López, José Leonardo, UNIRalumni: 14696148 - joseleonardo.alvarez696@comunidadunir.net*\n",
        "\n",
        "**Investigación de Operaciones** - Profesor: Rafael Ángel Montoya.  \n",
        "\n",
        "<br>Santiago de Cali, Abr-2024\n",
        "\n",
        "<a href=\"https://creativecommons.org/licenses/by-nc-nd/2.5/co/\">\n",
        "<img src=\"https://upload.wikimedia.org/wikipedia/commons/7/70/CC_BY-NC-ND.svg\" width=\"100px\" alt=\"cc_by-nc-nd\" /></a>\n"
      ],
      "metadata": {
        "id": "eyhhLLn8njqg"
      }
    },
    {
      "cell_type": "markdown",
      "source": [
        "# Abstract\n",
        "\n",
        "---\n",
        "\n",
        "## Operations Research and Optimization\n",
        "**Operations Research (OR)** and optimization techniques are highly relevant for data scientists due to their ability to solve complex decision-making problems and improve the efficiency of various processes. Here are several reasons why OR and optimization are important in the context of data science:\n",
        "\n",
        "1. Marketing and Customer Segmentation: OR techniques are applied in marketing to optimize advertising budgets, customer segmentation, and targeted promotions. Data scientists can use optimization models to determine the most effective strategies for reaching target audiences and maximizing return on investment.\n",
        "2. Forecasting and Planning: Optimization is crucial in scenarios where forecasting and planning are essential. Data scientists can use optimization models to develop more accurate forecasts and make better-informed decisions, especially in areas like workforce planning, staff scheduling and resource scheduling.\n",
        "3. Supply and Demand Optimization: OR techniques are commonly used in supply chain management, logistics, and inventory control. Data scientists can leverage optimization models to streamline and improve the efficiency of supply chain operations, reducing costs and improving pricing.\n",
        "4. Network Optimization: In telecommunications, transportation, and network design, optimization techniques play a key role. Data scientists can use these techniques to optimize network layouts, routing, and communication protocols, leading to improved performance and reduced latency.\n",
        "---\n"
      ],
      "metadata": {
        "id": "NkOf5tfuZJUG"
      }
    },
    {
      "cell_type": "markdown",
      "source": [
        "# Caso: Estrategia de producción\n",
        "\n",
        "## 1. Objetivos\n",
        "---\n",
        "\n",
        "A través de esta actividad podrás articular una gran parte de los conocimientos adquiridos hasta el desarrollo actual del curso:\n",
        "- Construcción de modelos de PL.\n",
        "- Solución a través del método gráfico.\n",
        "- Uso del software GLPK.\n",
        "- Análisis de sensibilidad.\n",
        "<br/>\n",
        "\n",
        "## 2. Descripción\n",
        "---\n",
        "\n",
        "A continuación se presenta el caso de aplicación a desarrollar, tomado de Anderson, D. R., Sweeney, D. J., & Williams, T. A. (2011). Métodos cuantitativos para los negocios (11a. Ed.). CENGAGE Learning.\n",
        "\n",
        "### Caso de aplicación: Estrategia de producción\n",
        "\n",
        "> Better Fitness, Inc. (BFI) fabrica equipo para ejercicio en su planta de Freeport, Long Island. Hace poco diseñó dos máquinas de pesas para el mercado de ejercicio en el hogar, las máquinas utilizan tecnología BFI patentada que proporciona al usuario un rango de capacidad de movimiento sumamente amplio para cada tipo de ejercicio realizado. Hasta ahora, estas capacidades habían estado disponibles solo en las máquinas de pesas costosas que utilizan principalmente los terapeutas físicos.\n",
        ">\n",
        "> En una exposición comercial reciente, las demostraciones de las máquinas despertaron un gran interés por parte de los distribuidores. De hecho, el número de pedidos que BFI recibió en la exposición comercial excedía por mucho sus capacidades de manufactura para el periodo de producción actual. Como resultado, la gerencia decidió comenzar la fabricación de las dos máquinas, las cuales BFI nombró BodyPlus 100 y BodyPlus 200, y requieren para su producción diferentes cantidades de recursos:\n",
        ">\n",
        "> - La BodyPlus 100 consta de una unidad de estructura, una estación de prensa y una pec-dec. En cada estructura producida se invierten 4 horas de tiempo de mecanizado y sujeción, y 2 de pintura y acabado. Cada estación de prensa requiere 2 horas de mecanizado y sujeción, y 1 de pintura y acabado; en cada estación pec-dec se invierten 2 horas de mecanizado y sujeción, y 2 de pintura y acabados. Además, se dedican 2 horas al ensamblaje, las pruebas y el empaque de cada BodyPlus 100. Los costos de las materias primas son 450 usd por cada estructura, 300 usd por cada estación de prensa y 250 usd por cada estación de pec-dec; el empaque se estima en 50 usd por unidad.\n",
        ">\n",
        "> - La BodyPlus 200 se compone de una unidad de estructura, una estación de prensa, una pec-dec y una de prensa para piernas. En cada estructura producida se invierten 5 horas de tiempo de mecanizado y sujeción, y 4 horas de pintura y acabado. Cada estación de prensa requiere 3 horas de mecanizado y sujeción, y 2 horas de pintura y acabados. En cada estación pec-dec se invierten 2 horas de mecanizado y sujeción, y 2 de pintura y acabado; y cada estación de prensa para piernas requiere 2 horas de mecanizado y sujeción, y 2 de pintura y acabado. Además, se dedican 2 horas al ensamblaje, las pruebas y el empaque de cada BodyPlus 200. Los costos de las materias primas son 650 usd por cada estructura, 400 usd por cada estación de prensa, 250 usd por cada estación pec-dec y 300 usd por cada estación de prensa para piernas. El empaque se estima en 75 usd por unidad.\n",
        ">\n",
        "> Para el siguiente periodo de producción, la gerencia estima que se dispondrá de 600 horas de tiempo de mecanizado y sujeción, 450 de pintura y acabado, y 140 horas de ensamblaje. Los costos de mano de obra actuales son 20 usd por hora de mecanizado y sujeción, 15 usd por hora de pintura y acabado, y 12 usd por hora de ensamblaje, pruebas y empaque.\n",
        ">\n",
        "> El mercado en el cual deben competir las dos máquinas sugiere un precio al detalle o menudeo de 2400 usd para la BodyPlus 100 y 3500 usd para la BodyPlus 200, aunque puede haber flexibilidad por parte de BFI debido a las capacidades únicas de las nuevas máquinas. Los distribuidores autorizados de BFI pueden comprar las máquinas por 70% del precio de menudeo sugerido.\n",
        ">\n",
        "> El presidente de BFI considera que las capacidades únicas de la BodyPlus 200 pueden posicionar a BFI como uno de los líderes en equipo para ejercicio de alta calidad. En consecuencia, se estableció que el número de unidades BodyPlus 200 producidas debe ser como mínimo 25 % de la producción total.\n"
      ],
      "metadata": {
        "id": "Hn1gWBQPk8-Z"
      }
    },
    {
      "cell_type": "markdown",
      "source": [
        "# 3. Solución\n",
        "---\n",
        "\n",
        "Para abordar este problema, necesitamos determinar cuántas unidades de cada máquina producir para maximizar el beneficio total, dado el tiempo y los recursos disponibles\n",
        "\n",
        "\n",
        "Primero, calculemos los recursos requeridos para producir una unidad de cada máquina:\n",
        "\n",
        "### Recursos requeridos para BodyPlus 100:\n",
        "\n",
        "| **Modelo  Maquina** |     **Partes**      | **Mecanizado y Sujecion (h)** | **Pintura y Acabado (h)** | **Costos de Materia Prima (USD)** |\n",
        "|:-------------------:|--------------------:|:-----------------------------:|:-------------------------:|:---------------------------------:|\n",
        "|                     | Estructura          |               4               |             2             |                               450 |\n",
        "| **BodyPlus100**         | Estacion de Prensa  |               2               |             1             |                               300 |\n",
        "|                     | Pec-dec             |               2               |             2             |                               250 |\n",
        "|                     | Ensamble/Empaque    |               2               |                           |                                50 |\n",
        "\n",
        "* Costo total de mano de obra:\n",
        "\n",
        "$(8 horas x 20 usd/hora) + (5 horas x 15 usd/hora) + (2 horas x 12 usd/hora) = 259 usd$\n",
        "\n",
        "\n",
        "### Recursos requeridos para BodyPlus 200:\n",
        "\n",
        "| **Modelo  Maquina** |      **Partes**     | **Mecanizado Sujecion  (h)** | **Pintura  Acabado  (h)** | **Costos  Materia Prima  (USD)** |\n",
        "|:-------------------:|--------------------:|:----------------------------:|:-------------------------:|:--------------------------------:|\n",
        "|                     | Estructura          |               5              |             4             |                              650 |\n",
        "|                     | Estacion de Prensa  |               3              |             2             |                              400 |\n",
        "| **BodyPlus200**         | Pec-dec             |               2              |             2             |                              250 |\n",
        "|                     | Prensa Piernas      |               2              |             2             |                              300 |\n",
        "|                     | Ensamble/Empaque    |               2              |                           |                               75 |\n",
        "\n",
        "\n",
        "* Costo total de mano de obra:\n",
        "\n",
        "$(12 horas x 20 usd/hora) + (10 horas x 15 usd/hora) + (2 horas x 12 usd/hora) = 414 usd$\n",
        "\n",
        "<br />\n",
        "\n",
        "Ahora, calculamos el beneficio o ganacias por unidad de cada máquina:\n",
        "\n",
        "### Utilidad por unidad de BodyPlus 100:\n",
        "* Precio de menudeo sugerido: $2400 usd$\n",
        "* Costo total por unidad: $1000 usd (materias primas) + 259 usd (mano de obra) + 50 usd (empaque) = 1309 usd$\n",
        "* Beneficio por unidad: $2400 usd - 1309 usd = 1091 usd$\n",
        "\n",
        "### Utilidad por unidad de BodyPlus 200:\n",
        "* Precio de menudeo sugerido: $3500 usd$\n",
        "* Costo total por unidad: $1600 usd (materias primas) + 414 usd (mano de obra) + 75 usd (empaque) = 2089 usd$\n",
        "* Beneficio por unidad: $3500 usd - 2089 usd = 1411 usd$\n",
        "\n",
        "<br />\n",
        "\n",
        "## 3.1 Construcción del modelo\n",
        "\n",
        "#### **Variables de decisión :**\n",
        "\n",
        "\\begin{align*}\n",
        "x_1: BodyPlus100 \\\\\n",
        "x_2: BodyPlus200\n",
        "\\end{align*}\n",
        "\n",
        "#### **Restricciones :**\n",
        "\\begin{align*}\n",
        "&x_1, x_2 \\geqslant 0 \\quad &&\\text{(Valor unidades a producir no negativos)} \\\\\n",
        "&8x_1 + 12x_2 \\leqslant 600 \\quad &&\\text{(Horas mecanizado y sujeción)} \\\\\n",
        "&5x_1 + 10x_2 \\leqslant 450 \\quad &&\\text{(Horas pintura y acabado)} \\\\\n",
        "&2x_1 + 2x_2 \\leqslant 140 \\quad &&\\text{(Horas ensamblaje, pruebas y empaque)} \\\\\n",
        "&0.25(x_1 + x_2) \\leqslant x_2 \\quad &&\\text{(Minimo 25% para BodyPlus200)} \\\\\n",
        "\\end{align*}\n",
        "\n",
        "#### **Función objetivo :**\n",
        "\n",
        "\\begin{align*}\n",
        "Zmax = 2400x_1 + 3500x_2 − (20(8x_1 + 12x_2) + 15(5x_1 + 10x_2) + 12(2x1_ + 2x_2))\n",
        "\\end{align*}\n",
        "\n",
        "<br />\n",
        "\n",
        "## 3.2 Solucion método gráfico\n",
        "\n",
        "Se utiliza la biblioteca de visualización de Python llamada Matplotlib y su libreria de ploteo o trazo de gráficos vectoriales (PyPlot)."
      ],
      "metadata": {
        "id": "96khwtwdBcd_"
      }
    },
    {
      "cell_type": "code",
      "source": [
        "!pip install -q matplotlib"
      ],
      "metadata": {
        "id": "jVxmjf_LVh1P"
      },
      "execution_count": null,
      "outputs": []
    },
    {
      "cell_type": "code",
      "source": [
        "import matplotlib.pyplot as plt\n",
        "import numpy as np\n",
        "\n",
        "# Datos\n",
        "profit_bodyplus100 = 1091\n",
        "profit_bodyplus200 = 1411\n",
        "price_bodyplus100 = 2400\n",
        "price_bodyplus200 = 3500\n",
        "\n",
        "# Función para calcular el beneficio total\n",
        "def total_profit(quantity_bodyplus100, quantity_bodyplus200):\n",
        "    return (profit_bodyplus100 * quantity_bodyplus100) + (profit_bodyplus200 * quantity_bodyplus200)\n",
        "\n",
        "# Rangos de cantidad a producir para cada máquina\n",
        "quantity_bodyplus100_values = np.arange(0, 100, 1)\n",
        "quantity_bodyplus200_values = np.arange(0, 100, 1)\n",
        "\n",
        "# Calcular beneficio total para cada combinación de cantidad\n",
        "profits = np.array([[total_profit(q1, q2) for q1 in quantity_bodyplus100_values] for q2 in quantity_bodyplus200_values])\n",
        "\n",
        "# Encontrar la cantidad que maximiza el beneficio total\n",
        "max_profit_index = np.unravel_index(np.argmax(profits, axis=None), profits.shape)\n",
        "max_profit_quantity_bodyplus100 = quantity_bodyplus100_values[max_profit_index[0]]\n",
        "max_profit_quantity_bodyplus200 = quantity_bodyplus200_values[max_profit_index[1]]\n",
        "max_profit = profits[max_profit_index]\n",
        "\n",
        "# Crear el gráfico\n",
        "plt.figure(figsize=(10, 6))\n",
        "plt.contourf(quantity_bodyplus100_values, quantity_bodyplus200_values,\n",
        "             profits, cmap='viridis')\n",
        "plt.colorbar(label='Beneficio Total (USD)')\n",
        "plt.xlabel('Cantidad de BodyPlus 100')\n",
        "plt.ylabel('Cantidad de BodyPlus 200')\n",
        "plt.title('Beneficio Total en función de la Cantidad de Producción')\n",
        "plt.scatter(max_profit_quantity_bodyplus100, max_profit_quantity_bodyplus200,\n",
        "            color='red', label=f'Máximo Beneficio: {max_profit:,.2f} USD')\n",
        "plt.legend()\n",
        "plt.grid(True)\n",
        "plt.show()\n"
      ],
      "metadata": {
        "colab": {
          "base_uri": "https://localhost:8080/",
          "height": 564
        },
        "id": "8W9DK-VIVfFx",
        "outputId": "24098d48-521f-42f4-cc0d-24025358d2b9"
      },
      "execution_count": null,
      "outputs": [
        {
          "output_type": "display_data",
          "data": {
            "text/plain": [
              "<Figure size 1000x600 with 2 Axes>"
            ],
            "image/png": "[encoded data removed]"
          },
          "metadata": {}
        }
      ]
    },
    {
      "cell_type": "markdown",
      "source": [
        "<br />\n",
        "\n",
        "## 3.3 Implementación del software\n",
        "\n",
        "Se implementa el código del modelo de optimización utilizando la biblioteca Pyomo y el solucionador GNU Linear Programming Kit que utiliza el método simplex y el algoritmo de ramificación & poda para problemas de enteros mixtos, destinado para resolver a gran escala problemas de programación lineal.\n",
        "\n",
        "Este código define el modelo de optimización lineal utilizando Pyomo, incluyendo las restricciones de recursos y la restricción mínima de producción de BodyPlus200. Luego, resuelve el modelo utilizando el solver GLPK e imprime la cantidad óptima a producir de cada máquina y el beneficio total óptimo.\n",
        "\n",
        "Debemos maximizar el beneficio total sujeto a las restricciones de recursos y la proporción mínima de BodyPlus 200. Podemos plantear esto como un problema de programación lineal."
      ],
      "metadata": {
        "id": "XoV0ag2RVz-Z"
      }
    },
    {
      "cell_type": "code",
      "source": [
        "!pip install -q pyomo"
      ],
      "metadata": {
        "colab": {
          "base_uri": "https://localhost:8080/"
        },
        "id": "_jAOZ4TjbAJG",
        "outputId": "35670380-948b-40d7-807d-4bb84cc340dc"
      },
      "execution_count": null,
      "outputs": [
        {
          "output_type": "stream",
          "name": "stdout",
          "text": [
            "\u001b[2K     \u001b[90m━━━━━━━━━━━━━━━━━━━━━━━━━━━━━━━━━━━━━━━━\u001b[0m \u001b[32m12.7/12.7 MB\u001b[0m \u001b[31m33.8 MB/s\u001b[0m eta \u001b[36m0:00:00\u001b[0m\n",
            "\u001b[2K     \u001b[90m━━━━━━━━━━━━━━━━━━━━━━━━━━━━━━━━━━━━━━━━\u001b[0m \u001b[32m49.6/49.6 kB\u001b[0m \u001b[31m4.7 MB/s\u001b[0m eta \u001b[36m0:00:00\u001b[0m\n",
            "\u001b[?25h"
          ]
        }
      ]
    },
    {
      "cell_type": "code",
      "source": [
        "%%capture\n",
        "!apt install -y -qq -o Dpkg::Progress-Fancy=\"0\" -o APT::Color=\"0\" -o Dpkg::Use-Pty=\"0\" glpk-utils"
      ],
      "metadata": {
        "id": "1BbGorDJZDkv"
      },
      "execution_count": null,
      "outputs": []
    },
    {
      "cell_type": "code",
      "source": [
        "from pyomo.environ import *\n",
        "\n",
        "# Crear una instancia del modelo de optimización\n",
        "model = ConcreteModel()\n",
        "\n",
        "# Conjuntos de maquinas\n",
        "model.MACHINES = Set(initialize=['BodyPlus100', 'BodyPlus200'])\n",
        "\n",
        "# Parámetros\n",
        "model.PROFIT = Param(model.MACHINES, initialize={'BodyPlus100': 1091, 'BodyPlus200': 1411})\n",
        "model.PRICE = Param(model.MACHINES, initialize={'BodyPlus100': 2400, 'BodyPlus200': 3500})\n",
        "\n",
        "model.REQUIRED_RESOURCES = Param(model.MACHINES, initialize={\n",
        "    'BodyPlus100': {'machining': 8, 'painting': 5, 'assembly': 2},\n",
        "    'BodyPlus200': {'machining': 12, 'painting': 10, 'assembly': 2}\n",
        "})\n",
        "\n",
        "model.AVAILABLE_RESOURCES = {'machining': 600, 'painting': 450, 'assembly': 140}\n",
        "\n",
        "model.MIN_BODYPLUS200_PERCENTAGE = 0.25\n",
        "\n",
        "# Variables de decisión\n",
        "model.quantity = Var(model.MACHINES, within=NonNegativeIntegers)\n",
        "\n",
        "# Función objetivo\n",
        "def total_profit(model):\n",
        "    return sum(model.PROFIT[m] * model.quantity[m] for m in model.MACHINES)\n",
        "\n",
        "model.total_profit = Objective(rule=total_profit, sense=maximize)\n",
        "\n",
        "# Restricciones de recursos\n",
        "def resource_constraint_rule(model, resource):\n",
        "    return sum(model.REQUIRED_RESOURCES[m][resource] *\n",
        "               model.quantity[m] for m in model.MACHINES) <= model.AVAILABLE_RESOURCES[resource]\n",
        "\n",
        "model.resource_constraint = Constraint(model.AVAILABLE_RESOURCES.keys(),\n",
        "                                       rule=resource_constraint_rule)\n",
        "\n",
        "# Restricción mínima de BodyPlus200\n",
        "def min_bodyplus200_constraint_rule(model):\n",
        "    return model.quantity['BodyPlus200'] >= model.MIN_BODYPLUS200_PERCENTAGE * sum(model.quantity[m] for m in model.MACHINES)\n",
        "\n",
        "model.min_bodyplus200_constraint = Constraint(rule=min_bodyplus200_constraint_rule)\n",
        "\n",
        "# Resolver el modelo\n",
        "solver = SolverFactory('glpk', executable='/usr/bin/glpsol')\n",
        "solver.solve(model)\n",
        "\n",
        "# Verificar el modelo\n",
        "model.pprint()\n",
        "print()\n",
        "solver.solve(model).write()\n",
        "\n",
        "# Mostrar resultados\n",
        "print('\\n\\n================= Solución Pyomo GLPK =================\\n')\n",
        "print(\"Cantidad óptima a producir de cada máquina: \\n\")\n",
        "\n",
        "for m in model.MACHINES:\n",
        "    print(f\"{m}: {model.quantity[m].value}\")\n",
        "\n",
        "print(f\"\\nBeneficio total óptimo: : $ {model.total_profit():,.2f} usd\\n\")\n",
        "print('=======================================================\\n')\n"
      ],
      "metadata": {
        "colab": {
          "base_uri": "https://localhost:8080/"
        },
        "id": "Tpi0lQoxYj_5",
        "outputId": "3eb115d0-2b36-4fa0-a7ff-a779730af932"
      },
      "execution_count": null,
      "outputs": [
        {
          "output_type": "stream",
          "name": "stdout",
          "text": [
            "1 Set Declarations\n",
            "    MACHINES : Size=1, Index=None, Ordered=Insertion\n",
            "        Key  : Dimen : Domain : Size : Members\n",
            "        None :     1 :    Any :    2 : {'BodyPlus100', 'BodyPlus200'}\n",
            "\n",
            "3 Param Declarations\n",
            "    PRICE : Size=2, Index=MACHINES, Domain=Any, Default=None, Mutable=False\n",
            "        Key         : Value\n",
            "        BodyPlus100 :  2400\n",
            "        BodyPlus200 :  3500\n",
            "    PROFIT : Size=2, Index=MACHINES, Domain=Any, Default=None, Mutable=False\n",
            "        Key         : Value\n",
            "        BodyPlus100 :  1091\n",
            "        BodyPlus200 :  1411\n",
            "    REQUIRED_RESOURCES : Size=2, Index=MACHINES, Domain=Any, Default=None, Mutable=False\n",
            "        Key         : Value\n",
            "        BodyPlus100 : {'machining': 8, 'painting': 5, 'assembly': 2}\n",
            "        BodyPlus200 : {'machining': 12, 'painting': 10, 'assembly': 2}\n",
            "\n",
            "1 Var Declarations\n",
            "    quantity : Size=2, Index=MACHINES\n",
            "        Key         : Lower : Value : Upper : Fixed : Stale : Domain\n",
            "        BodyPlus100 :     0 :  48.0 :  None : False : False : NonNegativeIntegers\n",
            "        BodyPlus200 :     0 :  18.0 :  None : False : False : NonNegativeIntegers\n",
            "\n",
            "1 Objective Declarations\n",
            "    total_profit : Size=1, Index=None, Active=True\n",
            "        Key  : Active : Sense    : Expression\n",
            "        None :   True : maximize : 1091*quantity[BodyPlus100] + 1411*quantity[BodyPlus200]\n",
            "\n",
            "2 Constraint Declarations\n",
            "    min_bodyplus200_constraint : Size=1, Index=None, Active=True\n",
            "        Key  : Lower : Body                                                                         : Upper : Active\n",
            "        None :  -Inf : 0.25*(quantity[BodyPlus100] + quantity[BodyPlus200]) - quantity[BodyPlus200] :   0.0 :   True\n",
            "    resource_constraint : Size=3, Index={painting, assembly, machining}, Active=True\n",
            "        Key       : Lower : Body                                               : Upper : Active\n",
            "         assembly :  -Inf :  2*quantity[BodyPlus100] + 2*quantity[BodyPlus200] : 140.0 :   True\n",
            "        machining :  -Inf : 8*quantity[BodyPlus100] + 12*quantity[BodyPlus200] : 600.0 :   True\n",
            "         painting :  -Inf : 5*quantity[BodyPlus100] + 10*quantity[BodyPlus200] : 450.0 :   True\n",
            "\n",
            "8 Declarations: MACHINES PROFIT PRICE REQUIRED_RESOURCES quantity total_profit resource_constraint min_bodyplus200_constraint\n",
            "\n",
            "# ==========================================================\n",
            "# = Solver Results                                         =\n",
            "# ==========================================================\n",
            "# ----------------------------------------------------------\n",
            "#   Problem Information\n",
            "# ----------------------------------------------------------\n",
            "Problem: \n",
            "- Name: unknown\n",
            "  Lower bound: 77766.0\n",
            "  Upper bound: 77766.0\n",
            "  Number of objectives: 1\n",
            "  Number of constraints: 4\n",
            "  Number of variables: 2\n",
            "  Number of nonzeros: 8\n",
            "  Sense: maximize\n",
            "# ----------------------------------------------------------\n",
            "#   Solver Information\n",
            "# ----------------------------------------------------------\n",
            "Solver: \n",
            "- Status: ok\n",
            "  Termination condition: optimal\n",
            "  Statistics: \n",
            "    Branch and bound: \n",
            "      Number of bounded subproblems: 3\n",
            "      Number of created subproblems: 3\n",
            "  Error rc: 0\n",
            "  Time: 0.006653785705566406\n",
            "# ----------------------------------------------------------\n",
            "#   Solution Information\n",
            "# ----------------------------------------------------------\n",
            "Solution: \n",
            "- number of solutions: 0\n",
            "  number of solutions displayed: 0\n",
            "\n",
            "\n",
            "================= Solución Pyomo GLPK =================\n",
            "\n",
            "Cantidad óptima a producir de cada máquina: \n",
            "\n",
            "BodyPlus100: 48.0\n",
            "BodyPlus200: 18.0\n",
            "\n",
            "Beneficio total óptimo: : $ 77,766.00 usd\n",
            "\n",
            "=======================================================\n",
            "\n"
          ]
        }
      ]
    },
    {
      "cell_type": "markdown",
      "source": [
        "Adicionalmente, se implemento utilizando PuLP una librería de Python para modelar y resolver problemas de optimización mediante programación lineal, disponible bajo licencia de código abierto (Open Source), lo que fomenta y facilita su uso dentro de otros proyectos que requieran capacidades de optimización lineal."
      ],
      "metadata": {
        "id": "z-Hg3_Q0Sy6x"
      }
    },
    {
      "cell_type": "code",
      "source": [
        "!pip install -q pulp"
      ],
      "metadata": {
        "colab": {
          "base_uri": "https://localhost:8080/"
        },
        "id": "tMYhLtrtSgqN",
        "outputId": "4b5c2715-2dbc-45c9-86d9-23ad0f8b6866"
      },
      "execution_count": null,
      "outputs": [
        {
          "output_type": "stream",
          "name": "stdout",
          "text": [
            "\u001b[2K     \u001b[90m━━━━━━━━━━━━━━━━━━━━━━━━━━━━━━━━━━━━━━━━\u001b[0m \u001b[32m17.7/17.7 MB\u001b[0m \u001b[31m30.8 MB/s\u001b[0m eta \u001b[36m0:00:00\u001b[0m\n",
            "\u001b[?25h"
          ]
        }
      ]
    },
    {
      "cell_type": "code",
      "source": [
        "from pulp import *\n",
        "\n",
        "# Crear el problema de maximización\n",
        "prob = LpProblem(\"Maximize_Profit\", LpMaximize)\n",
        "\n",
        "# Variables de decisión\n",
        "quantity = LpVariable.dicts(\"Quantity\", ['BodyPlus100', 'BodyPlus200'],\n",
        "                            lowBound=0, cat='Integer')\n",
        "\n",
        "# Parámetros\n",
        "profit = {'BodyPlus100': 1091, 'BodyPlus200': 1411}\n",
        "price = {'BodyPlus100': 2400, 'BodyPlus200': 3500}\n",
        "required_resources = {\n",
        "    'BodyPlus100': {'machining': 8, 'painting': 5, 'assembly': 2},\n",
        "    'BodyPlus200': {'machining': 12, 'painting': 10, 'assembly': 2}\n",
        "}\n",
        "available_resources = {'machining': 600, 'painting': 450, 'assembly': 140}\n",
        "min_bodyplus200_percentage = 0.25\n",
        "\n",
        "# Función objetivo\n",
        "prob += lpSum(profit[m] * quantity[m] for m in quantity)\n",
        "\n",
        "# Restricciones de recursos\n",
        "for resource in available_resources:\n",
        "    prob += lpSum(required_resources[m][resource] *\n",
        "                  quantity[m] for m in quantity) <= available_resources[resource]\n",
        "\n",
        "# Restricción mínima de BodyPlus200\n",
        "prob += quantity['BodyPlus200'] >= min_bodyplus200_percentage * lpSum(quantity[m] for m in quantity)\n",
        "\n",
        "# Resolver el problema\n",
        "prob.solve()\n",
        "\n",
        "# Mostrar resultados\n",
        "print('================= Solución con PuLP =================\\n')\n",
        "print(\"Cantidad óptima a producir de cada máquina: \\n\")\n",
        "for m in quantity:\n",
        "    print(f\"{m}: {value(quantity[m])}\")\n",
        "\n",
        "print(f\"\\nBeneficio total óptimo: $ {value(prob.objective):,.2f} usd\")\n"
      ],
      "metadata": {
        "colab": {
          "base_uri": "https://localhost:8080/"
        },
        "id": "-RC9Gtr5CNIB",
        "outputId": "b54bcd73-2da8-43a7-c40e-a7f6c4b86481"
      },
      "execution_count": null,
      "outputs": [
        {
          "output_type": "stream",
          "name": "stdout",
          "text": [
            "================= Solución con PuLP =================\n",
            "\n",
            "Cantidad óptima a producir de cada máquina: \n",
            "\n",
            "BodyPlus100: 48.0\n",
            "BodyPlus200: 18.0\n",
            "\n",
            "Beneficio total óptimo: $ 77,766.00 usd\n"
          ]
        }
      ]
    },
    {
      "cell_type": "markdown",
      "metadata": {
        "id": "GyMNuVdoKq0_"
      },
      "source": [
        "# 4. Hallazgos y Recomendaciones\n",
        "---\n",
        "<br/>\n",
        "\n",
        "**Consideraciones**\n",
        "\n",
        "- La cantidad recomendada de máquinas BodyPlus 100 y BodyPlus 200 a producir\n",
        "- El efecto sobre las utilidades del requerimiento de que la cantidad de unidades de la BodyPlus 200 producidas sea por lo menos 25 % de la producción total.\n",
        "<br/>\n",
        "\n",
        "## 4.1 Hallazgos\n",
        "\n",
        "1. Restricciones de recursos: Se impusieron restricciones en la cantidad de recursos disponibles, como el tiempo de mecanizado, pintura y ensamblaje, para garantizar que la producción no exceda la capacidad de la planta.\n",
        "\n",
        "2. Requerimiento mínimo para BodyPlus 200: Se estableció una restricción adicional para garantizar que al menos el 25 % de la producción total corresponda a BodyPlus 200, lo que sugiere una estrategia para enfocar recursos en la producción de este modelo.\n",
        "\n",
        "3. Producción óptima: La cantidad óptima de máquinas a producir se determinó maximizando las utilidades, considerando los costos de producción y los ingresos por ventas, resultando que para este próximo período de producción se debe construir **48 BodyPlus-100** y **18 BodyPlus-200** para un **beneficio económico de $77.766 USD**.\n",
        "\n",
        "## 4.2 Recomendaciones\n",
        "\n",
        "* Monitoreo continuo de la demanda: Dado el éxito inicial en la exposición comercial, es importante monitorear de cerca la demanda del mercado para ajustar la producción según sea necesario y evitar excedentes o escasez de inventario.\n",
        "\n",
        "* Optimización de recursos: Se podría considerar la optimización continua de la asignación de recursos para maximizar la eficiencia de la producción y minimizar los costos operativos.\n",
        "\n",
        "* Flexibilidad en los precios: Aunque se sugirieron precios al detal, se recomienda mantener cierta flexibilidad en la fijación de precios para adaptarse a las condiciones del mercado y aprovechar oportunidades de ventas.\n",
        "\n",
        "* Investigación y desarrollo: Se podría considerar la inversión en investigación y desarrollo para mejorar aún más la tecnología patentada y mantener la ventaja competitiva en el mercado de equipos para ejercicio en el hogar.\n",
        "\n",
        "* Estrategias de marketing: Utilizar las capacidades únicas de los productos, especialmente de BodyPlus 200, como punto de venta en estrategias de marketing para diferenciar la marca y atraer a los clientes.\n",
        "\n",
        "* Evaluación periódica de la estrategia de producción: Es importante realizar evaluaciones periódicas de la estrategia de producción para adaptarse a cambios en la demanda del mercado, avances tecnológicos y otras variables externas.\n"
      ]
    },
    {
      "cell_type": "markdown",
      "metadata": {
        "id": "ROFIFKbJkLbN"
      },
      "source": [
        "# 6. Conclusiones\n",
        "---\n",
        "<br />\n",
        "\n",
        "* Con esta actividad se logra aprender como en 5 pasos usando Python se puede resolver un problema de programación lineal, sus suposiciones, componentes e implementación. Por supuesto, esto es solo el comienzo y hay mucho más que podemos hacer usando las distintas bibliotecas de optimización matemática en la investigación de operaciones que llega a soluciones óptimas o casi óptimas para problemas complejos de toma de decisiones como la optimización de precios, presupuestos, costos de producción, uso adecuado de materias primas, tiempos de fabricación, etc.\n",
        "  1. Elegir solucionador\n",
        "  2. Declarar variables\n",
        "  3. Definir restricciones\n",
        "  4. Definir función objetivo\n",
        "  5. Optimizar el modelo\n",
        "\n",
        "* Las aplicaciones de investigación de operaciones y optimización en la ciencia de datos abarcan varios dominios, incluido el marketing, la previsión, la gestión de la cadena de suministro y el diseño de redes. La programación lineal, una técnica de optimización específica, juega un papel crucial en estas aplicaciones. Además, se encuentran disponibles diversos marcos de modelado y solucionadores, como GLPK, Scipy, Pyomo y PuLP, cada uno con diferentes propósitos."
      ]
    },
    {
      "cell_type": "markdown",
      "metadata": {
        "id": "8RC1QNNqk6h1"
      },
      "source": [
        "# 7. Referencia Bibliográfica\n",
        "---\n",
        "\n",
        "<br/>\n",
        "\n",
        "[1] Anderson, D. R., Sweeney, D. J., & Williams, T. A. (2011). Métodos cuantitativos para los negocios (11a. Ed.). CENGAGE Learning.\n",
        "\n",
        "[2] Chong Jing Ting, 4 Ways to Solve Linear Programming in Python tomado del blog https://medium.com/@chongjingting/4-ways-to-solve-linear-programming-in-python-b4af36b7894d\n",
        "\n",
        "[3] Programación Lineal con la Biblioteca Pyomo de Python: Caso de Optimización en Refinería de Petróleo, tomado del canal de YouTube del Profesor Dr. Carlos Martínez,  https://youtu.be/xSUznym3euU\n",
        "\n",
        "[4] Intro to Pyomo and GLPK for Google Colab tomado del canal YouTube de la Dr. Katie https://youtu.be/SCmAqjqQoPo\n",
        "\n",
        "[5] https://realpython.com/linear-programming-python/\n",
        "\n",
        "[6] Bynum, Michael L., Gabriel A. Hackebeil, William E. Hart, Carl D. Laird, Bethany L. Nicholson, John D. Siirola, Jean-Paul Watson, and David L. Woodruff. Pyomo - Optimization Modeling in Python, 3rd Edition. Springer, 2021.\n"
      ]
    },
    {
      "cell_type": "code",
      "execution_count": null,
      "metadata": {
        "id": "vXW18kFea6N9"
      },
      "outputs": [],
      "source": [
        "#@title Licensed under the Apache License, Version 2.0 (the \"License\");\n",
        "# you may not use this file except in compliance with the License.\n",
        "# You may obtain a copy of the License at\n",
        "#\n",
        "# https://www.apache.org/licenses/LICENSE-2.0\n",
        "#\n",
        "# Unless required by applicable law or agreed to in writing, software\n",
        "# distributed under the License is distributed on an \"AS IS\" BASIS,\n",
        "# WITHOUT WARRANTIES OR CONDITIONS OF ANY KIND, either express or implied.\n",
        "# See the License for the specific language governing permissions and\n",
        "# limitations under the License.\n"
      ]
    }
  ]
}